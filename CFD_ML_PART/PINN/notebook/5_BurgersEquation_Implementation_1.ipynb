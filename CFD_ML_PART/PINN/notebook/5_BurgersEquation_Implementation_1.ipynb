{
 "cells": [
  {
   "attachments": {},
   "cell_type": "markdown",
   "metadata": {
    "colab_type": "text",
    "id": "view-in-github"
   },
   "source": [
    "<a href=\"https://colab.research.google.com/github/jdtoscano94/Learning-PINNs-in-Pytorch-Physics-Informed-Machine-Learning/blob/main/5_BurgersEquation.ipynb\" target=\"_parent\"><img src=\"https://colab.research.google.com/assets/colab-badge.svg\" alt=\"Open In Colab\"/></a>"
   ]
  },
  {
   "attachments": {},
   "cell_type": "markdown",
   "metadata": {
    "id": "Y61YA90-WIZ1"
   },
   "source": [
    "# Libraries in 218 Euclid choose Python 3.10.9 environment"
   ]
  },
  {
   "cell_type": "code",
   "execution_count": 32,
   "metadata": {
    "colab": {
     "base_uri": "https://localhost:8080/"
    },
    "id": "WZrPCr9GWEAJ",
    "outputId": "1125c4ad-acd0-447e-dbf0-96479450eb2e"
   },
   "outputs": [
    {
     "name": "stdout",
     "output_type": "stream",
     "text": [
      "cpu\n"
     ]
    }
   ],
   "source": [
    "from   pyDOE import *           # use for engineers to construct experimental design\n",
    "from   pyDOE import lhs         # Latin Hypercube Sampling\n",
    "import warnings\n",
    "warnings.filterwarnings('ignore')\n",
    "from   pathlib import Path           # this module is used to manipulate the python path and file path\n",
    "import matplotlib.pyplot as plt\n",
    "import matplotlib.gridspec as gridspec\n",
    "from   mpl_toolkits.axes_grid1 import make_axes_locatable\n",
    "from   mpl_toolkits.mplot3d import Axes3D\n",
    "import matplotlib.ticker\n",
    "from sklearn.model_selection import train_test_split\n",
    "import numpy as np\n",
    "import time\n",
    "import scipy.io\n",
    "import torch\n",
    "import torch.nn as nn                     # neural networks\n",
    "import torch.optim as optim               # optimizers e.g. gradient descent, ADAM, etc.\n",
    "import torch.autograd as autograd         # computation graph\n",
    "from torch import Tensor                  # tensor node in the computation graph\n",
    "import glob\n",
    "import os\n",
    "import re\n",
    "import pandas as pd\n",
    "from IPython.core.display import display\n",
    "pd.set_option('display.max_rows', 500)\n",
    "pd.set_option('display.max_columns', 100)\n",
    "pd.set_option('display.max_colwidth', None)\n",
    "torch.set_default_dtype(torch.float) # Set default dtype to float32\n",
    "torch.manual_seed(1234)              # PyTorch random number generator\n",
    "np.random.seed(1234)                 # Random number generators in other libraries\n",
    "device = torch.device('cuda' if torch.cuda.is_available() else 'cpu')# Device configuration\n",
    "import random\n",
    "print(device)\n",
    "if device == 'cuda': \n",
    "    print(torch.cuda.get_device_name()) "
   ]
  },
  {
   "cell_type": "code",
   "execution_count": 33,
   "metadata": {
    "id": "F8Y6q7m288zJ"
   },
   "outputs": [],
   "source": [
    "def plot3D(x,t,y):\n",
    "  x_plot = x.squeeze(1) \n",
    "  t_plot = t.squeeze(1)\n",
    "  X,T    = torch.meshgrid(x_plot,t_plot)\n",
    "  F_xt   = y\n",
    "  fig,ax = plt.subplots(1,1)\n",
    "  cp     = ax.contourf(T,X, F_xt,20,cmap=\"rainbow\")\n",
    "  fig.colorbar(cp) # Add a colorbar to a plot\n",
    "  ax.set_title('F(x,t)')\n",
    "  ax.set_xlabel('t')\n",
    "  ax.set_ylabel('x')\n",
    "  plt.show()\n",
    "  ax = plt.axes(projection='3d')\n",
    "  ax.plot_surface(T.numpy(), X.numpy(), F_xt.numpy(),cmap=\"rainbow\")\n",
    "  ax.set_xlabel('t')\n",
    "  ax.set_ylabel('x')\n",
    "  ax.set_zlabel('f(x,t)')\n",
    "  plt.show()"
   ]
  },
  {
   "cell_type": "code",
   "execution_count": 34,
   "metadata": {
    "id": "pFS1eS92dhuX"
   },
   "outputs": [],
   "source": [
    "def plot3D_Matrix(x,t,y):\n",
    "  X,T= x,t\n",
    "  F_xt = y\n",
    "  fig,ax=plt.subplots(1,1)\n",
    "  cp = ax.contourf(T,X, F_xt,20,cmap=\"rainbow\")\n",
    "  fig.colorbar(cp) # Add a colorbar to a plot\n",
    "  ax.set_title('F(x,t)')\n",
    "  ax.set_xlabel('t')\n",
    "  ax.set_ylabel('x')\n",
    "  plt.show()\n",
    "  ax = plt.axes(projection='3d')\n",
    "  ax.plot_surface(T.numpy(), X.numpy(), F_xt.numpy(),cmap=\"rainbow\")\n",
    "  ax.set_xlabel('t')\n",
    "  ax.set_ylabel('x')\n",
    "  ax.set_zlabel('f(x,t)')\n",
    "  plt.show()"
   ]
  },
  {
   "cell_type": "code",
   "execution_count": 35,
   "metadata": {
    "id": "j7m02X_26hFk"
   },
   "outputs": [],
   "source": [
    "def solutionplot(u_pred,X_u_train,u_train):\n",
    "  #https://github.com/omniscientoctopus/Physics-Informed-Neural-Networks\n",
    "    fig, ax = plt.subplots()\n",
    "    ax.axis('off')\n",
    "    gs0 = gridspec.GridSpec(1, 2)\n",
    "    gs0.update(top=1-0.06, bottom=1-1/3, left=0.15, right=0.85, wspace=0)\n",
    "    ax = plt.subplot(gs0[:, :])\n",
    "    h = ax.imshow(u_pred, interpolation='nearest', cmap='rainbow', \n",
    "                extent=[T.min(), T.max(), X.min(), X.max()], \n",
    "                origin='lower', aspect='auto')\n",
    "    divider = make_axes_locatable(ax)\n",
    "    cax = divider.append_axes(\"right\", size=\"5%\", pad=0.05)\n",
    "    fig.colorbar(h, cax=cax)\n",
    "    ax.plot(X_u_train[:,1], X_u_train[:,0], 'kx', label = 'Data (%d points)' % (u_train.shape[0]), markersize = 4, clip_on = False)\n",
    "    line = np.linspace(x.min(), x.max(), 2)[:,None]\n",
    "    ax.plot(t[int(t.shape[0]/3)-1]*np.ones((2,1)), line, 'w-', linewidth = 1)\n",
    "    ax.plot(t[int(t.shape[0]/3*2)-1]*np.ones((2,1)), line, 'w-', linewidth = 1)\n",
    "    ax.plot(t[int(t.shape[0]/3*3)-1]*np.ones((2,1)), line, 'w-', linewidth = 1)    \n",
    "    ax.set_xlabel('$t$')\n",
    "    ax.set_ylabel('$x$')\n",
    "    ax.legend(frameon=False, loc = 'best')\n",
    "    ax.set_title('$u(x,t)$', fontsize = 10)\n",
    "    ''' \n",
    "    Slices of the solution at points t = 0.25, t = 0.50 and t = 0.75\n",
    "    int(t.shape[0]/3*3)-1\n",
    "    '''\n",
    "    ####### Row 1: u(t,x) slices ##################\n",
    "    gs1 = gridspec.GridSpec(1, 3)\n",
    "    gs1.update(top=1-1/3, bottom=0, left=0.00001, right=0.00015, wspace=0.5)\n",
    "    \n",
    "    ax = plt.subplot(gs1[0, 0])\n",
    "    ax.plot(x,usol.T[int(t.shape[0]/3)-1,:], 'b-', linewidth = 2, label = 'Exact')       \n",
    "    ax.plot(x,u_pred.T[int(t.shape[0]/3)-1,:], 'r--', linewidth = 2, label = 'Prediction')\n",
    "    ax.set_xlabel('$x$')\n",
    "    ax.set_ylabel('$u(x,t)$')    \n",
    "    ax.set_title('{} seconds'.format(t[int(t.shape[0]/3)-1][0]), fontsize = 10)\n",
    "    ax.axis('square')\n",
    "    ax.set_xlim([-1.1,1.1])\n",
    "    ax.set_ylim([-1.1,1.1])\n",
    "    ax = plt.subplot(gs1[0, 1])\n",
    "    \n",
    "    ax.plot(x,usol.T[int(t.shape[0]/3*2)-1,:], 'b-', linewidth = 2, label = 'Exact')       \n",
    "    ax.plot(x,u_pred.T[int(t.shape[0]/3*2)-1,:], 'r--', linewidth = 2, label = 'Prediction')\n",
    "    ax.set_xlabel('$x$')\n",
    "    ax.set_ylabel('$u(x,t)$')\n",
    "    ax.axis('square')\n",
    "    ax.set_xlim([-1.1,1.1])\n",
    "    ax.set_ylim([-1.1,1.1])\n",
    "    ax.set_title('{} seconds'.format(t[int(t.shape[0]/3*2)-1][0]), fontsize = 10)\n",
    "    ax.legend(loc='upper center', bbox_to_anchor=(0.5, -0.35), ncol=5, frameon=False)\n",
    "\n",
    "    ax = plt.subplot(gs1[0, 2])\n",
    "    ax.plot(x,usol.T[int(t.shape[0]/3*3)-1,:], 'b-', linewidth = 2, label = 'Exact')       \n",
    "    ax.plot(x,u_pred.T[int(t.shape[0]/3*3)-1,:], 'r--', linewidth = 2, label = 'Prediction')\n",
    "    ax.set_xlabel('$x$')\n",
    "    ax.set_ylabel('$u(x,t)$')\n",
    "    ax.axis('square')\n",
    "    ax.set_xlim([-1.1,1.1])\n",
    "    ax.set_ylim([-1.1,1.1])    \n",
    "    ax.set_title('{} seconds'.format(t[int(t.shape[0]/3*3)-1][0]), fontsize = 10)\n",
    "    \n",
    "    plt.savefig('Burgers.png',dpi = 500)   "
   ]
  },
  {
   "attachments": {},
   "cell_type": "markdown",
   "metadata": {
    "id": "ZHYqtyYJs3Jv"
   },
   "source": [
    "### Neural Network"
   ]
  },
  {
   "cell_type": "code",
   "execution_count": 36,
   "metadata": {
    "id": "7EZjlbVMi8w0"
   },
   "outputs": [],
   "source": [
    "class FCN(nn.Module):          # nn.module => inherit module from torch  \n",
    "    \n",
    "    def __init__(self,layers):\n",
    "        super().__init__() #call __init__ from parent class \n",
    "              \n",
    "        'activation function'\n",
    "        self.activation = nn.Tanh() # define\n",
    "\n",
    "        'loss function'\n",
    "        self.loss_function = nn.MSELoss(reduction ='mean')\n",
    "    \n",
    "        'Initialise neural network as a list using nn.Modulelist'  \n",
    "        self.linears = nn.ModuleList([nn.Linear(layers[i], layers[i+1]) for i in range(len(layers)-1)])\n",
    "        \n",
    "        self.iter = 0  #\n",
    "    \n",
    "        'Xavier Normal Initialization'\n",
    "        for i in range(len(layers)-1):\n",
    "            nn.init.xavier_normal_(self.linears[i].weight.data, gain=1.0) # fill the tensor with initial weight values    \n",
    "            nn.init.zeros_(self.linears[i].bias.data) # set biases to zero\n",
    "            \n",
    "    'foward pass'\n",
    "    def forward(self,x):     # feed the distance in, return value is the distance of x, ve   \n",
    "        if torch.is_tensor(x) != True:    # when x is not empty     \n",
    "            x = torch.from_numpy(x)       # convert numpy array to tensor array         \n",
    "        u_b = torch.from_numpy(ub).float().to(device)  # ub => maximum value of x(1) and t(0.9)\n",
    "        l_b = torch.from_numpy(lb).float().to(device)  # lb => minimum value of x(-1) and t(0)\n",
    "        #preprocessing input \n",
    "        x = (x - l_b)/(u_b - l_b) #feature scaling\n",
    "        #convert to float\n",
    "        a = x.float()\n",
    "        for i in range(len(layers)-2): # load the tensor into each layers, except last layer \n",
    "            z = self.linears[i](a)\n",
    "            a = self.activation(z)\n",
    "        a = self.linears[-1](a)  # initiate last output layer input should be 256 x 20\n",
    "        return a # the return value is an activated value of input value\n",
    "    \n",
    "    def loss_BC(self,x,y): \n",
    "        loss_u = self.loss_function(self.forward(x), y)                                                         \n",
    "        return loss_u        # assuem y = torch.from_numpy(usol) => 256 x 100\n",
    "                             # forward(x) is a => 256 x 2  => how to compute MSE of these two??\n",
    "                             # why we need to calculate loss of boundary condition\n",
    "    def loss_PDE(self, X_train_Nf):\n",
    "        g = X_train_Nf.clone()  # X_train_Nf 100100 x 2 => collocation points 10000 x 2 from 100x2 (X_test)\n",
    "        g.requires_grad = True # if it is true, gradients derivatives need to be computed. we need this\n",
    "                               # as we need to train the weight through back propagation\n",
    "        u = self.forward(g)    #\n",
    "        u_x_t = autograd.grad(u,g,torch.ones([X_train_Nf.shape[0], 1]).to(device), retain_graph=True, create_graph=True)[0]\n",
    "        # the output of torch.autograd.grad is related to derivatives but it's not actually dy/dx, In fact autograd.grad returns the sum of the dydx over output dimension.\n",
    "        u_xx_tt = autograd.grad(u_x_t,g,torch.ones(X_train_Nf.shape).to(device), create_graph=True)[0]                                  \n",
    "        u_x = u_x_t[:,[0]]\n",
    "        u_t = u_x_t[:,[1]]\n",
    "        u_xx = u_xx_tt[:,[0]]\n",
    "        f = u_t + (self.forward(g))*(u_x) - (nu)*u_xx \n",
    "        loss_f = self.loss_function(f,f_hat)\n",
    "        return loss_f  \n",
    "    def loss(self,x,y,X_train_Nf):\n",
    "        loss_u = self.loss_BC(x,y) #MSE loss\n",
    "        loss_f = self.loss_PDE(X_train_Nf)\n",
    "        loss_val = loss_u + loss_f\n",
    "        return loss_val\n",
    "    'callable for optimizer'                                       \n",
    "    def closure(self): # excute first actual training starts here\n",
    "        optimizer.zero_grad()\n",
    "        loss = self.loss(X_train_Nu, U_train_Nu, X_train_Nf)\n",
    "        loss.backward() # to compute gradient, this is mandatory step\n",
    "        # https://stackoverflow.com/questions/53975717/pytorch-connection-between-loss-backward-and-optimizer-step\n",
    "        self.iter += 1\n",
    "        if self.iter % 100 == 0:\n",
    "            error_vec, _ = PINN.test()\n",
    "            print(loss,error_vec)                #\n",
    "        return loss        \n",
    "    'test neural network'\n",
    "    def test(self):\n",
    "        u_pred = self.forward(X_test)                                             # the reason use forward function because the weights are updated every time, and want to compute loss\n",
    "        error_vec = torch.linalg.norm((u-u_pred),2)/torch.linalg.norm(u,2)        # Relative L2 Norm of the error (Vector)\n",
    "        #error_vec = torch.linalg.norm((u-u_pred),2)        # Relative L2 Norm of the error (Vector)\n",
    "        u_pred = u_pred.cpu().detach().numpy()\n",
    "        #u_pred = np.reshape(u_pred,(256,100),order='F')\n",
    "        u_pred = np.reshape(u_pred,(x.shape[0],t.shape[0]),order='F')\n",
    "        return error_vec, u_pred\n",
    "\n"
   ]
  },
  {
   "attachments": {},
   "cell_type": "markdown",
   "metadata": {
    "id": "dQxdtgBtsqJj"
   },
   "source": [
    "## Training Data"
   ]
  },
  {
   "cell_type": "code",
   "execution_count": 43,
   "metadata": {},
   "outputs": [],
   "source": [
    "vel_final = np.empty((3000,0))\n",
    "X_final = []\n",
    "time_steps = sorted(list(set([\"\".join(re.findall(r'0.[0-9]*',item)) for item in glob.glob('./data/v9_m5_325/*')])))\n",
    "for time_step in time_steps:\n",
    "    hor5 = pd.read_csv('./data/v9_m5_325/hor5_vel_' + str(time_step) + '_sec_v325.csv',skiprows=4)\n",
    "    hor6 = pd.read_csv('./data/v9_m5_325/hor6_vel_' + str(time_step) + '_sec_v325.csv',skiprows=4)\n",
    "    hor8 = pd.read_csv('./data/v9_m5_325/hor8_vel_' + str(time_step) + '_sec_v325.csv',skiprows=4)\n",
    "    hor  = pd.concat([hor5,hor6,hor8])\n",
    "    vel_final = np.hstack((vel_final,hor['Velocity [ m s^-1 ]'].values.reshape(3000,1)))\n",
    "time_steps = np.array([float(time_step) for time_step in time_steps]).reshape(15,1)\n",
    "X_final = hor['Y [ m ]'].values.reshape(3000,1)"
   ]
  },
  {
   "cell_type": "markdown",
   "metadata": {},
   "source": [
    "input is previous time steps, and output is next step"
   ]
  },
  {
   "cell_type": "markdown",
   "metadata": {},
   "source": []
  },
  {
   "cell_type": "code",
   "execution_count": 44,
   "metadata": {},
   "outputs": [],
   "source": [
    "x    = X_final.astype(float)\n",
    "t    = np.array(time_steps).reshape(-1,1).astype(float)\n",
    "usol = vel_final.astype(float)"
   ]
  },
  {
   "cell_type": "code",
   "execution_count": null,
   "metadata": {},
   "outputs": [],
   "source": []
  },
  {
   "cell_type": "code",
   "execution_count": 45,
   "metadata": {},
   "outputs": [],
   "source": [
    "X, T = np.meshgrid(x,t)                         # makes 2 arrays X and T such that u(X[i],T[j])=usol[i][j] are a tuple\n",
    "# plot3D(torch.from_numpy(x),torch.from_numpy(t),torch.from_numpy(usol)) #f_real was defined previously(function)\n",
    "X_test = np.hstack((X.flatten()[:,None], T.flatten()[:,None])).astype(float) # it becomes 2D array with first column is x-axis location\n",
    "                                                               # and y-axis is time,\n",
    "                                                               # there is no y-axis has been computed\n",
    "steps=100000\n",
    "lr=1e-3\n",
    "lr=1e-4\n",
    "layers = np.array([2,20,20,20,20,20,20,20,20,1]) #8 hidden layers\n",
    "# Nu: Number of training points # Nf: Number of collocation points (Evaluate PDE)\n",
    "# N_u = 100 # Total number of data points for 'u', time step\n",
    "N_u = 15 \n",
    "N_u = 2700 \n",
    "#N_f = 10000 #Total number of collocation points: instead of 256 \n",
    "N_f = 225  \n",
    "N_f = 500  \n",
    "N_f = 100000  \n",
    "nu = 0.01/np.pi #diffusion coeficient\n"
   ]
  },
  {
   "cell_type": "code",
   "execution_count": 46,
   "metadata": {},
   "outputs": [],
   "source": [
    "# Domain bounds\n",
    "lb = X_test[0]  # [-1. 0.]\n",
    "ub = X_test[-1] # [1.  0.99]\n",
    "u_true = usol.flatten('F')[:,None] #Fortran style (Column Major)\n",
    "\n",
    "left_X = np.hstack((X[0,:][:,None], T[0,:][:,None]))\n",
    "left_U = usol[:,0][:,None]\n",
    "bottom_X = np.hstack((X[:,0][:,None], T[:,0][:,None])) # L2, X[:,0] => all of rows and fist column => 1 x 100\n",
    "                                                       # T[:,0] => all of rows and fist column => 1 x 100\n",
    "                                                       # bottom_X is 100 x 2\n",
    "bottom_U = usol[-1,:][:,None]                          # usol[-1,:] => subset last row, and all of column => 1 x 100\n",
    "                                                       # bottom_U becomes 100 x "
   ]
  },
  {
   "cell_type": "code",
   "execution_count": 47,
   "metadata": {},
   "outputs": [],
   "source": [
    "#Boundary Condition x = 1 and 0 =< t =<1\n",
    "top_X = np.hstack((X[:,-1][:,None], T[:,0][:,None]))   # L3, last column and all of rows of X => 100 x 1 \n",
    "                                                       # first column and all rows of T => 100 x 1 \n",
    "                                                       # top_X becomes 100 x 2\n",
    "top_U = usol[0,:][:,None]                              # subset first row and all of column, 1 x 100\n",
    "                                                       # top_U becomes 100 x 1\n",
    "X_train = np.vstack([left_X, bottom_X, top_X])         # X_train  final is 456 x 2 with first column is x-axis and second\n",
    "                                                       # column is time series\n",
    "U_train = np.vstack([left_U, bottom_U, top_U])         # U_train final is 456 x 1  \n",
    "#choose random N_u points for training\n",
    "idx = np.random.choice(X_train.shape[0], N_u, replace=False) # \n",
    "X_train_Nu = X_train[idx, :]     # choose indices from  set 'idx' (x,t) shape 100x2\n",
    "U_train_Nu = U_train[idx,:]      # choose corresponding u 100x1"
   ]
  },
  {
   "cell_type": "code",
   "execution_count": 48,
   "metadata": {},
   "outputs": [
    {
     "data": {
      "text/plain": [
       "(102700, 2)"
      ]
     },
     "execution_count": 48,
     "metadata": {},
     "output_type": "execute_result"
    }
   ],
   "source": [
    "'''Collocation Points'''\n",
    "\n",
    "# Latin Hypercube sampling for collocation points \n",
    "# N_f sets of tuples(x,t)\n",
    "X_train_Nf = lb + (ub-lb) * lhs(2,N_f) # select 10000  x 2 points from  100 x 2 original points \n",
    "\n",
    "X_train_Nf = np.vstack((X_train_Nf, X_train_Nu)) # append training points 100 x 2 to \n",
    "                                                 # select collocation points 10000 x 2\n",
    "X_train_Nf.shape"
   ]
  },
  {
   "cell_type": "code",
   "execution_count": 49,
   "metadata": {},
   "outputs": [
    {
     "name": "stdout",
     "output_type": "stream",
     "text": [
      "Original shapes for X and U: (15, 3000) (3000, 15)\n",
      "Boundary shapes for the edges: (3000, 2) (15, 2) (15, 2)\n",
      "Available training data: (3030, 2) (3030, 1)\n",
      "Final training data: (2700, 2) (2700, 1)\n",
      "Total collocation points: (102700, 2)\n"
     ]
    }
   ],
   "source": [
    "print(\"Original shapes for X and U:\",X.shape,usol.shape)\n",
    "print(\"Boundary shapes for the edges:\",left_X.shape,bottom_X.shape,top_X.shape)\n",
    "print(\"Available training data:\",X_train.shape,U_train.shape)\n",
    "print(\"Final training data:\",X_train_Nu.shape,U_train_Nu.shape)\n",
    "print(\"Total collocation points:\",X_train_Nf.shape)                                                 "
   ]
  },
  {
   "attachments": {},
   "cell_type": "markdown",
   "metadata": {},
   "source": [
    "Original shapes for X and U: (100, 256) (256, 100)\n",
    "\n",
    "Boundary shapes for the edges: (256, 2) (100, 2) (100, 2)\n",
    "\n",
    "Available training data: (456, 2) (456, 1)\n",
    "\n",
    "Final training data: (15, 2) (15, 1)\n",
    "\n",
    "Total collocation points: (515, 2)"
   ]
  },
  {
   "attachments": {},
   "cell_type": "markdown",
   "metadata": {
    "id": "I82eH55ElVSq"
   },
   "source": [
    "# Train Neural Network"
   ]
  },
  {
   "cell_type": "code",
   "execution_count": 50,
   "metadata": {},
   "outputs": [],
   "source": [
    "'Convert to tensor and send to GPU'\n",
    "X_train_Nf = torch.from_numpy(X_train_Nf.astype(float)).float().to(device)\n",
    "X_train_Nu = torch.from_numpy(X_train_Nu.astype(float)).float().to(device)\n",
    "U_train_Nu = torch.from_numpy(U_train_Nu.astype(float)).float().to(device)\n",
    "X_test = torch.from_numpy(X_test.astype(float)).float().to(device)\n",
    "u = torch.from_numpy(u_true).float().to(device)\n",
    "f_hat = torch.zeros(X_train_Nf.shape[0],1).to(device)\n"
   ]
  },
  {
   "cell_type": "code",
   "execution_count": 51,
   "metadata": {
    "colab": {
     "base_uri": "https://localhost:8080/"
    },
    "id": "8KZvgKcalOVV",
    "outputId": "b421072c-6908-4e45-a79a-531aead57cab"
   },
   "outputs": [
    {
     "name": "stdout",
     "output_type": "stream",
     "text": [
      "tensor(8491.9551, grad_fn=<AddBackward0>) tensor(1.0070, grad_fn=<DivBackward0>)\n",
      "tensor(449.2221, grad_fn=<AddBackward0>) tensor(1.0033, grad_fn=<DivBackward0>)\n",
      "Training time: 72.71\n",
      "Test Error: 1.00327\n"
     ]
    }
   ],
   "source": [
    "\n",
    "PINN = FCN(layers)\n",
    "PINN.to(device)\n",
    "\n",
    "'Neural Network Summary'\n",
    "# print(PINN)\n",
    "\n",
    "params = list(PINN.parameters())\n",
    "\n",
    "'''Optimization'''\n",
    "\n",
    "'L-BFGS Optimizer'\n",
    "optimizer = torch.optim.LBFGS(PINN.parameters(), lr, \n",
    "                              max_iter = steps,  #maximal number of iterations per optimization step (default: 20), here step means one trainging cycle?\n",
    "                              max_eval = None, # maximal number of function evaluations per optimization step (default: max_iter * 1.25).\n",
    "                              tolerance_grad = 1e-11,     #Termination tolerance on first order optimality (default: 1e-5).\n",
    "                              tolerance_change = 1e-11,   #termination tolerance on function value/parameter changes (default: 1e-9).\n",
    "                              history_size = 100, #pdate history size (default: 100). \n",
    "                              line_search_fn = 'strong_wolfe')#either ‘strong_wolfe’ or None (default: None).\n",
    "\n",
    "#SGD optimizer\n",
    "# optimizer = torch.optim.SGD(PINN.parameters(), lr, momentum=0.9 )\n",
    "\n",
    "# Adam optimizer\n",
    "#optimizer = torch.optim.Adam(PINN.parameters(),lr=lr,betas=(0.9,0.999),weight_decay=0)\n",
    "\n",
    "#Rprop\n",
    "# optimizer = torch.optim.Rprop(PINN.parameters(),lr=lr, etas=(0.5, 1.2), step_sizes=(1e-06, 50))\n",
    "\n",
    "start_time = time.time()\n",
    "\n",
    "optimizer.step(PINN.closure)\n",
    "\n",
    "# Closure. In PyTorch, input to the LBFGS routine needs a method to calculate the training error and the gradient, \n",
    "# which is generally called as the closure. \n",
    "# https://sagecal.sourceforge.net/pytorch/index.html\n",
    "# the way for stopping calculation is because the test error or loss is converged. i.e. error_vec is same value, loss is same value     \n",
    "    \n",
    "elapsed = time.time() - start_time                \n",
    "print('Training time: %.2f' % (elapsed))\n",
    "\n",
    "''' Model Accuracy ''' \n",
    "error_vec, u_pred = PINN.test()\n",
    "\n",
    "\n",
    "print('Test Error: %.5f'  % (error_vec))"
   ]
  },
  {
   "cell_type": "code",
   "execution_count": 52,
   "metadata": {},
   "outputs": [
    {
     "data": {
      "text/plain": [
       "torch.Size([45000, 2])"
      ]
     },
     "execution_count": 52,
     "metadata": {},
     "output_type": "execute_result"
    }
   ],
   "source": [
    "X_test.shape"
   ]
  },
  {
   "cell_type": "code",
   "execution_count": 53,
   "metadata": {},
   "outputs": [
    {
     "data": {
      "text/plain": [
       "<matplotlib.legend.Legend at 0x2b7f12fb0>"
      ]
     },
     "execution_count": 53,
     "metadata": {},
     "output_type": "execute_result"
    },
    {
     "data": {
      "image/png": "[encoded data removed]",
      "text/plain": [
       "<Figure size 640x480 with 1 Axes>"
      ]
     },
     "metadata": {},
     "output_type": "display_data"
    }
   ],
   "source": [
    "import matplotlib.pyplot as plt\n",
    "plt.plot(x,usol.T[int(t.shape[0]/3)-1,:],label=\"True Solution\")\n",
    "plt.plot(x,u_pred.T[int(t.shape[0]/3)-1,:],label=\"Predicted solution\")\n",
    "plt.title(label=\"predicted solution versus True solution\")\n",
    "plt.title(label=\"predicted solution versus True solution\")\n",
    "plt.xlabel(\"Travelling distance in the y-direction\")\n",
    "plt.ylabel(\"Solution in the y-direction\")\n",
    "plt.legend()"
   ]
  },
  {
   "cell_type": "code",
   "execution_count": 54,
   "metadata": {},
   "outputs": [
    {
     "data": {
      "text/plain": [
       "[<matplotlib.lines.Line2D at 0x2b80b6f50>]"
      ]
     },
     "execution_count": 54,
     "metadata": {},
     "output_type": "execute_result"
    },
    {
     "data": {
      "image/png": "[encoded data removed]",
      "text/plain": [
       "<Figure size 640x480 with 1 Axes>"
      ]
     },
     "metadata": {},
     "output_type": "display_data"
    }
   ],
   "source": [
    "plt.plot(x,usol.T[int(t.shape[0]/3*2)-1,:])\n",
    "plt.plot(x,u_pred.T[int(t.shape[0]/3*2)-1,:])"
   ]
  },
  {
   "cell_type": "code",
   "execution_count": 55,
   "metadata": {},
   "outputs": [
    {
     "data": {
      "text/plain": [
       "[<matplotlib.lines.Line2D at 0x2b80ebdc0>]"
      ]
     },
     "execution_count": 55,
     "metadata": {},
     "output_type": "execute_result"
    },
    {
     "data": {
      "image/png": "[encoded data removed]",
      "text/plain": [
       "<Figure size 640x480 with 1 Axes>"
      ]
     },
     "metadata": {},
     "output_type": "display_data"
    }
   ],
   "source": [
    "plt.plot(x,usol.T[int(t.shape[0])-1,:])\n",
    "plt.plot(x,u_pred.T[int(t.shape[0])-1,:])"
   ]
  },
  {
   "cell_type": "code",
   "execution_count": 56,
   "metadata": {},
   "outputs": [],
   "source": [
    "#plt.plot(x,usol)"
   ]
  },
  {
   "cell_type": "code",
   "execution_count": 57,
   "metadata": {},
   "outputs": [],
   "source": [
    "#plt.plot(x,u_pred)"
   ]
  },
  {
   "cell_type": "code",
   "execution_count": null,
   "metadata": {
    "colab": {
     "base_uri": "https://localhost:8080/",
     "height": 318
    },
    "id": "8yI5eSZP5zD6",
    "outputId": "fb8379ec-6512-49c2-9b66-bee5d970d580"
   },
   "outputs": [],
   "source": [
    "#solutionplot(u_pred,X_train_Nu.cpu().detach().numpy(),U_train_Nu)"
   ]
  },
  {
   "attachments": {},
   "cell_type": "markdown",
   "metadata": {
    "id": "kpRh89zM8Te8"
   },
   "source": [
    "### Plots"
   ]
  },
  {
   "cell_type": "code",
   "execution_count": null,
   "metadata": {
    "id": "otgA5_xXqb4S"
   },
   "outputs": [],
   "source": [
    "# X_test[:,0]\n",
    "# X_test[:,1]"
   ]
  },
  {
   "cell_type": "code",
   "execution_count": null,
   "metadata": {
    "id": "90-ygJjca2c_"
   },
   "outputs": [],
   "source": [
    "# arr_x1=x1.reshape(shape=X.shape).transpose(1,0).detach().cpu()\n",
    "# arr_T1=t1.reshape(shape=X.shape).transpose(1,0).detach().cpu()\n",
    "# arr_y1=u_pred\n",
    "# arr_y_test=usol"
   ]
  },
  {
   "cell_type": "code",
   "execution_count": null,
   "metadata": {},
   "outputs": [],
   "source": [
    "# u_pred\n",
    "# x1\n",
    "#t1"
   ]
  },
  {
   "cell_type": "code",
   "execution_count": null,
   "metadata": {
    "colab": {
     "base_uri": "https://localhost:8080/",
     "height": 526
    },
    "id": "ituXQapsciqE",
    "outputId": "dfa1c570-b826-46f2-d04f-c2887ada71a6"
   },
   "outputs": [],
   "source": [
    "# plot3D_Matrix(arr_x1,arr_T1,torch.from_numpy(arr_y1))"
   ]
  },
  {
   "cell_type": "code",
   "execution_count": null,
   "metadata": {},
   "outputs": [],
   "source": []
  },
  {
   "cell_type": "code",
   "execution_count": null,
   "metadata": {
    "colab": {
     "base_uri": "https://localhost:8080/",
     "height": 526
    },
    "id": "xarXcLDdeF7X",
    "outputId": "7ed17df5-3e0c-4380-bc03-477036a1da8a"
   },
   "outputs": [],
   "source": [
    "# plot3D(torch.from_numpy(x),torch.from_numpy(t),torch.from_numpy(usol)) "
   ]
  }
 ],
 "metadata": {
  "accelerator": "GPU",
  "colab": {
   "collapsed_sections": [
    "Y61YA90-WIZ1",
    "i0j73GoH86-m"
   ],
   "include_colab_link": true,
   "machine_shape": "hm",
   "name": "5.BurgersEquation.ipynb",
   "provenance": []
  },
  "kernelspec": {
   "display_name": "Python 3",
   "language": "python",
   "name": "python3"
  },
  "language_info": {
   "codemirror_mode": {
    "name": "ipython",
    "version": 3
   },
   "file_extension": ".py",
   "mimetype": "text/x-python",
   "name": "python",
   "nbconvert_exporter": "python",
   "pygments_lexer": "ipython3",
   "version": "3.10.9"
  },
  "vscode": {
   "interpreter": {
    "hash": "31f2aee4e71d21fbe5cf8b01ff0e069b9275f58929596ceb00d14d90e3e16cd6"
   }
  }
 },
 "nbformat": 4,
 "nbformat_minor": 1
}
